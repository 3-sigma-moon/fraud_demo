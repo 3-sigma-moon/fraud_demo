{
 "cells": [
  {
   "cell_type": "code",
   "execution_count": 57,
   "metadata": {
    "collapsed": false
   },
   "outputs": [],
   "source": [
    "import sys\n",
    "sys.version\n",
    "import numpy as np"
   ]
  },
  {
   "cell_type": "code",
   "execution_count": 76,
   "metadata": {
    "collapsed": false
   },
   "outputs": [],
   "source": [
    "from pandas import read_csv\n",
    "from sklearn.model_selection import train_test_split\n",
    "from sklearn.linear_model import LogisticRegression\n",
    "from sklearn.externals.joblib import dump\n",
    "from sklearn.externals.joblib import load\n",
    "from sklearn.ensemble import RandomForestClassifier\n",
    "from sklearn.model_selection import KFold\n",
    "from sklearn.model_selection import cross_val_score"
   ]
  },
  {
   "cell_type": "code",
   "execution_count": 68,
   "metadata": {
    "collapsed": false
   },
   "outputs": [],
   "source": [
    "filename = 'order_claim_ticket_v2_201612200055.csv'\n",
    "dataframe = read_csv(filename)"
   ]
  },
  {
   "cell_type": "code",
   "execution_count": 69,
   "metadata": {
    "collapsed": false
   },
   "outputs": [
    {
     "data": {
      "text/plain": [
       "Index(['﻿\"order_id\"', 'gender', 'title', 'given_name', 'middle_initial',\n",
       "       'surname', 'street_address', 'city', 'state', 'zipcode', 'country',\n",
       "       'country_full', 'email_address', 'username', 'password',\n",
       "       'telephone_number', 'mothers_maiden', 'birthday', 'CC_type',\n",
       "       'CC_number', 'cvv2', 'cc_expiration', 'national_id', 'color',\n",
       "       'occupation', 'ref_domain', 'guid', 'latitude', 'longitude',\n",
       "       'total_session_length', 'pageview_pre_purchase_visits', 'time_on_cart',\n",
       "       'product_view_count', 'total_visit_clicks', 'fraud',\n",
       "       'customer_credit_selection', 'payment_type', 'plan_type',\n",
       "       'existing_ecom_customer', 'customer_id'],\n",
       "      dtype='object')"
      ]
     },
     "execution_count": 69,
     "metadata": {},
     "output_type": "execute_result"
    }
   ],
   "source": [
    "dataframe.columns"
   ]
  },
  {
   "cell_type": "code",
   "execution_count": 70,
   "metadata": {
    "collapsed": false
   },
   "outputs": [],
   "source": [
    "dataframe = dataframe.loc[:,['total_session_length', 'pageview_pre_purchase_visits', 'time_on_cart',\n",
    "       'product_view_count', 'total_visit_clicks', 'fraud',\n",
    "       'customer_credit_selection', 'payment_type', 'plan_type']]"
   ]
  },
  {
   "cell_type": "code",
   "execution_count": 71,
   "metadata": {
    "collapsed": false
   },
   "outputs": [
    {
     "data": {
      "text/html": [
       "<div>\n",
       "<table border=\"1\" class=\"dataframe\">\n",
       "  <thead>\n",
       "    <tr style=\"text-align: right;\">\n",
       "      <th></th>\n",
       "      <th>total_session_length</th>\n",
       "      <th>pageview_pre_purchase_visits</th>\n",
       "      <th>time_on_cart</th>\n",
       "      <th>product_view_count</th>\n",
       "      <th>total_visit_clicks</th>\n",
       "      <th>fraud</th>\n",
       "      <th>customer_credit_selection</th>\n",
       "      <th>payment_type</th>\n",
       "      <th>plan_type</th>\n",
       "    </tr>\n",
       "  </thead>\n",
       "  <tbody>\n",
       "    <tr>\n",
       "      <th>0</th>\n",
       "      <td>25.473872</td>\n",
       "      <td>70</td>\n",
       "      <td>10.170042</td>\n",
       "      <td>6</td>\n",
       "      <td>30</td>\n",
       "      <td>0</td>\n",
       "      <td>Good Credit</td>\n",
       "      <td>18 Month Lease</td>\n",
       "      <td>Small - 3GB</td>\n",
       "    </tr>\n",
       "    <tr>\n",
       "      <th>1</th>\n",
       "      <td>24.945612</td>\n",
       "      <td>71</td>\n",
       "      <td>9.295318</td>\n",
       "      <td>5</td>\n",
       "      <td>31</td>\n",
       "      <td>0</td>\n",
       "      <td>Good Credit</td>\n",
       "      <td>Full Price</td>\n",
       "      <td>Unlimited</td>\n",
       "    </tr>\n",
       "    <tr>\n",
       "      <th>2</th>\n",
       "      <td>25.840529</td>\n",
       "      <td>70</td>\n",
       "      <td>9.497712</td>\n",
       "      <td>4</td>\n",
       "      <td>30</td>\n",
       "      <td>0</td>\n",
       "      <td>Good Credit</td>\n",
       "      <td>Full Price</td>\n",
       "      <td>Medium - 6GB</td>\n",
       "    </tr>\n",
       "    <tr>\n",
       "      <th>3</th>\n",
       "      <td>26.004909</td>\n",
       "      <td>71</td>\n",
       "      <td>8.210692</td>\n",
       "      <td>6</td>\n",
       "      <td>29</td>\n",
       "      <td>0</td>\n",
       "      <td>Good Credit</td>\n",
       "      <td>24 Month Contract</td>\n",
       "      <td>Medium - 6GB</td>\n",
       "    </tr>\n",
       "    <tr>\n",
       "      <th>4</th>\n",
       "      <td>24.218376</td>\n",
       "      <td>70</td>\n",
       "      <td>10.313291</td>\n",
       "      <td>5</td>\n",
       "      <td>30</td>\n",
       "      <td>0</td>\n",
       "      <td>Good Credit</td>\n",
       "      <td>24 Month Contract</td>\n",
       "      <td>Unlimited</td>\n",
       "    </tr>\n",
       "  </tbody>\n",
       "</table>\n",
       "</div>"
      ],
      "text/plain": [
       "   total_session_length  pageview_pre_purchase_visits  time_on_cart  \\\n",
       "0             25.473872                            70     10.170042   \n",
       "1             24.945612                            71      9.295318   \n",
       "2             25.840529                            70      9.497712   \n",
       "3             26.004909                            71      8.210692   \n",
       "4             24.218376                            70     10.313291   \n",
       "\n",
       "   product_view_count  total_visit_clicks  fraud customer_credit_selection  \\\n",
       "0                   6                  30      0               Good Credit   \n",
       "1                   5                  31      0               Good Credit   \n",
       "2                   4                  30      0               Good Credit   \n",
       "3                   6                  29      0               Good Credit   \n",
       "4                   5                  30      0               Good Credit   \n",
       "\n",
       "        payment_type     plan_type  \n",
       "0     18 Month Lease   Small - 3GB  \n",
       "1         Full Price     Unlimited  \n",
       "2         Full Price  Medium - 6GB  \n",
       "3  24 Month Contract  Medium - 6GB  \n",
       "4  24 Month Contract     Unlimited  "
      ]
     },
     "execution_count": 71,
     "metadata": {},
     "output_type": "execute_result"
    }
   ],
   "source": [
    "dataframe.head()"
   ]
  },
  {
   "cell_type": "code",
   "execution_count": 72,
   "metadata": {
    "collapsed": false
   },
   "outputs": [
    {
     "name": "stdout",
     "output_type": "stream",
     "text": [
      "<class 'pandas.core.frame.DataFrame'>\n",
      "RangeIndex: 25000 entries, 0 to 24999\n",
      "Data columns (total 9 columns):\n",
      "total_session_length            25000 non-null float64\n",
      "pageview_pre_purchase_visits    25000 non-null int64\n",
      "time_on_cart                    25000 non-null float64\n",
      "product_view_count              25000 non-null int64\n",
      "total_visit_clicks              25000 non-null int64\n",
      "fraud                           25000 non-null int64\n",
      "customer_credit_selection       25000 non-null object\n",
      "payment_type                    25000 non-null object\n",
      "plan_type                       25000 non-null object\n",
      "dtypes: float64(2), int64(4), object(3)\n",
      "memory usage: 1.7+ MB\n"
     ]
    }
   ],
   "source": [
    "dataframe.info()"
   ]
  },
  {
   "cell_type": "code",
   "execution_count": 73,
   "metadata": {
    "collapsed": false
   },
   "outputs": [],
   "source": [
    "array = dataframe.values\n",
    "X = array[:,[0,1,2,3,4]]\n",
    "Y = np.asarray(dataframe['fraud'], dtype=\"float\")\n"
   ]
  },
  {
   "cell_type": "code",
   "execution_count": 95,
   "metadata": {
    "collapsed": false
   },
   "outputs": [
    {
     "data": {
      "text/plain": [
       "RandomForestClassifier(bootstrap=True, class_weight=None, criterion='gini',\n",
       "            max_depth=None, max_features=3, max_leaf_nodes=None,\n",
       "            min_impurity_split=1e-07, min_samples_leaf=1,\n",
       "            min_samples_split=2, min_weight_fraction_leaf=0.0,\n",
       "            n_estimators=100, n_jobs=1, oob_score=False, random_state=None,\n",
       "            verbose=0, warm_start=False)"
      ]
     },
     "execution_count": 95,
     "metadata": {},
     "output_type": "execute_result"
    }
   ],
   "source": [
    "num_trees = 100\n",
    "max_features = 3\n",
    "X_train, X_test, Y_train, Y_test = train_test_split(X, Y, test_size=0.33, random_state=7)\n",
    "model = RandomForestClassifier(n_estimators=num_trees, max_features=max_features)\n",
    "model.fit(X_train, Y_train)"
   ]
  },
  {
   "cell_type": "code",
   "execution_count": 96,
   "metadata": {
    "collapsed": false
   },
   "outputs": [],
   "source": [
    "#save model to disk\n",
    "filename = 'finalized_model.sav'\n",
    "dump(model, open(filename, 'wb'))"
   ]
  },
  {
   "cell_type": "code",
   "execution_count": 97,
   "metadata": {
    "collapsed": false
   },
   "outputs": [
    {
     "name": "stdout",
     "output_type": "stream",
     "text": [
      "0.999151515152\n"
     ]
    }
   ],
   "source": [
    "# load the model from disk & Score in batch mode\n",
    "loaded_model = load(open(filename, 'rb'))\n",
    "result = loaded_model.score(X_test, Y_test)\n",
    "print(result)"
   ]
  },
  {
   "cell_type": "code",
   "execution_count": 109,
   "metadata": {
    "collapsed": false
   },
   "outputs": [
    {
     "name": "stdout",
     "output_type": "stream",
     "text": [
      "the transaction is 1.0\n"
     ]
    }
   ],
   "source": [
    "#the same thing when scored 1 at a time\n",
    "result = model.predict(X[59].reshape(1, -1))\n",
    "print(\"the transaction is {}\".format(result[0]))"
   ]
  },
  {
   "cell_type": "code",
   "execution_count": 105,
   "metadata": {
    "collapsed": false
   },
   "outputs": [],
   "source": [
    "from sklearn.externals.joblib import dump\n",
    "from sklearn.externals.joblib import load"
   ]
  },
  {
   "cell_type": "code",
   "execution_count": 106,
   "metadata": {
    "collapsed": false
   },
   "outputs": [
    {
     "data": {
      "text/plain": [
       "['forest_model.sav']"
      ]
     },
     "execution_count": 106,
     "metadata": {},
     "output_type": "execute_result"
    }
   ],
   "source": [
    "filename = 'forest_model.sav'\n",
    "dump(model, filename)"
   ]
  },
  {
   "cell_type": "code",
   "execution_count": 113,
   "metadata": {
    "collapsed": false
   },
   "outputs": [
    {
     "name": "stdout",
     "output_type": "stream",
     "text": [
      "the transaction is 1.0\n"
     ]
    }
   ],
   "source": [
    "# load the model from disk at a later time and score 1 at a time\n",
    "loaded_model = load(filename)\n",
    "result = loaded_model.predict(X[59].reshape(1, -1))\n",
    "print(\"the transaction is {}\".format(result[0]))"
   ]
  },
  {
   "cell_type": "code",
   "execution_count": 115,
   "metadata": {
    "collapsed": false
   },
   "outputs": [
    {
     "data": {
      "text/html": [
       "<div>\n",
       "<table border=\"1\" class=\"dataframe\">\n",
       "  <thead>\n",
       "    <tr style=\"text-align: right;\">\n",
       "      <th></th>\n",
       "      <th>total_session_length</th>\n",
       "      <th>pageview_pre_purchase_visits</th>\n",
       "      <th>time_on_cart</th>\n",
       "      <th>product_view_count</th>\n",
       "      <th>total_visit_clicks</th>\n",
       "    </tr>\n",
       "  </thead>\n",
       "  <tbody>\n",
       "    <tr>\n",
       "      <th>0</th>\n",
       "      <td>25.473872</td>\n",
       "      <td>70</td>\n",
       "      <td>10.170042</td>\n",
       "      <td>6</td>\n",
       "      <td>30</td>\n",
       "    </tr>\n",
       "    <tr>\n",
       "      <th>1</th>\n",
       "      <td>24.945612</td>\n",
       "      <td>71</td>\n",
       "      <td>9.295318</td>\n",
       "      <td>5</td>\n",
       "      <td>31</td>\n",
       "    </tr>\n",
       "    <tr>\n",
       "      <th>2</th>\n",
       "      <td>25.840529</td>\n",
       "      <td>70</td>\n",
       "      <td>9.497712</td>\n",
       "      <td>4</td>\n",
       "      <td>30</td>\n",
       "    </tr>\n",
       "    <tr>\n",
       "      <th>3</th>\n",
       "      <td>26.004909</td>\n",
       "      <td>71</td>\n",
       "      <td>8.210692</td>\n",
       "      <td>6</td>\n",
       "      <td>29</td>\n",
       "    </tr>\n",
       "    <tr>\n",
       "      <th>4</th>\n",
       "      <td>24.218376</td>\n",
       "      <td>70</td>\n",
       "      <td>10.313291</td>\n",
       "      <td>5</td>\n",
       "      <td>30</td>\n",
       "    </tr>\n",
       "  </tbody>\n",
       "</table>\n",
       "</div>"
      ],
      "text/plain": [
       "   total_session_length  pageview_pre_purchase_visits  time_on_cart  \\\n",
       "0             25.473872                            70     10.170042   \n",
       "1             24.945612                            71      9.295318   \n",
       "2             25.840529                            70      9.497712   \n",
       "3             26.004909                            71      8.210692   \n",
       "4             24.218376                            70     10.313291   \n",
       "\n",
       "   product_view_count  total_visit_clicks  \n",
       "0                   6                  30  \n",
       "1                   5                  31  \n",
       "2                   4                  30  \n",
       "3                   6                  29  \n",
       "4                   5                  30  "
      ]
     },
     "execution_count": 115,
     "metadata": {},
     "output_type": "execute_result"
    }
   ],
   "source": [
    "#Data that will be required to be passed to the streaming model\n",
    "dataframe.iloc[:,[0,1,2,3,4]].head()"
   ]
  },
  {
   "cell_type": "code",
   "execution_count": 117,
   "metadata": {
    "collapsed": false
   },
   "outputs": [
    {
     "data": {
      "text/plain": [
       "total_session_length                      17.3559\n",
       "pageview_pre_purchase_visits                   59\n",
       "time_on_cart                              1.76069\n",
       "product_view_count                             10\n",
       "total_visit_clicks                             21\n",
       "fraud                                           1\n",
       "customer_credit_selection             Good Credit\n",
       "payment_type                    24 Month Contract\n",
       "plan_type                               Unlimited\n",
       "Name: 59, dtype: object"
      ]
     },
     "execution_count": 117,
     "metadata": {},
     "output_type": "execute_result"
    }
   ],
   "source": [
    "dataframe.ix[59]"
   ]
  },
  {
   "cell_type": "code",
   "execution_count": null,
   "metadata": {
    "collapsed": true
   },
   "outputs": [],
   "source": []
  }
 ],
 "metadata": {
  "kernelspec": {
   "display_name": "Python [conda env:py4MAS]",
   "language": "python",
   "name": "conda-env-py4MAS-py"
  },
  "language_info": {
   "codemirror_mode": {
    "name": "ipython",
    "version": 3
   },
   "file_extension": ".py",
   "mimetype": "text/x-python",
   "name": "python",
   "nbconvert_exporter": "python",
   "pygments_lexer": "ipython3",
   "version": "3.4.5"
  }
 },
 "nbformat": 4,
 "nbformat_minor": 1
}
